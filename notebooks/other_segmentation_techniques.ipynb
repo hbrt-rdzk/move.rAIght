{
 "cells": [
  {
   "cell_type": "code",
   "execution_count": null,
   "metadata": {},
   "outputs": [],
   "source": [
    "import pandas as pd\n",
    "import ruptures as rpt\n",
    "import matplotlib.pyplot as plt\n",
    "from scipy.signal import find_peaks\n",
    "\n",
    "\n",
    "vid_1_angles_df = pd.read_csv(\"../data/pwr/angles/vid_001_angles.csv\")"
   ]
  },
  {
   "cell_type": "code",
   "execution_count": null,
   "metadata": {},
   "outputs": [],
   "source": [
    "vid_1_angles_df[[\"right_knee_pitch\", \"left_knee_pitch\"]].plot()"
   ]
  },
  {
   "cell_type": "code",
   "execution_count": null,
   "metadata": {},
   "outputs": [],
   "source": [
    "import numpy as np\n",
    "\n",
    "X = np.mean(\n",
    "    [\n",
    "        vid_1_angles_df[\"right_knee_pitch\"].to_numpy(),\n",
    "        vid_1_angles_df[\"left_knee_pitch\"].to_numpy(),\n",
    "    ],\n",
    "    axis=0,\n",
    ")"
   ]
  },
  {
   "cell_type": "code",
   "execution_count": null,
   "metadata": {},
   "outputs": [],
   "source": [
    "plt.plot(X)\n",
    "plt.xlabel(\"Klatka\")\n",
    "plt.ylabel(\"Kąt\")\n",
    "plt.title(\"Sygnał ćwiczenia\")"
   ]
  },
  {
   "cell_type": "markdown",
   "metadata": {},
   "source": [
    "## ChangePoints"
   ]
  },
  {
   "cell_type": "code",
   "execution_count": null,
   "metadata": {},
   "outputs": [],
   "source": [
    "algo = rpt.Pelt(model=\"rbf\").fit(X)\n",
    "result = algo.predict(pen=10)\n",
    "\n",
    "# Wyświetlanie wyników\n",
    "print(\"Punkty zmiany:\", result)"
   ]
  },
  {
   "cell_type": "code",
   "execution_count": null,
   "metadata": {},
   "outputs": [],
   "source": [
    "fig, ax = plt.subplots()\n",
    "\n",
    "ax.plot(X)\n",
    "\n",
    "for resul in result:\n",
    "    ax.axvline(x=resul, color=\"b\", ls=\"--\")"
   ]
  },
  {
   "cell_type": "markdown",
   "metadata": {},
   "source": [
    "## Peaks"
   ]
  },
  {
   "cell_type": "code",
   "execution_count": null,
   "metadata": {},
   "outputs": [],
   "source": [
    "mean_signal_value = X.mean()\n",
    "peaks, peaks_info = find_peaks(X, height=mean_signal_value, distance=15)\n",
    "valleys, _ = find_peaks(-X, height=-mean_signal_value, distance=15)"
   ]
  },
  {
   "cell_type": "code",
   "execution_count": null,
   "metadata": {},
   "outputs": [],
   "source": [
    "fig, ax = plt.subplots()\n",
    "\n",
    "ax.plot(X)\n",
    "\n",
    "# for peak in peaks:\n",
    "ax.plot(peaks, X[peaks], \"x\")\n",
    "ax.plot(valleys, X[valleys], \"o\")\n",
    "ax.set_xlabel(\"Klatka\")\n",
    "ax.set_ylabel(\"Kąt\")\n",
    "ax.set_title(\"Wykrycie wierzchołków\")"
   ]
  },
  {
   "cell_type": "code",
   "execution_count": null,
   "metadata": {},
   "outputs": [],
   "source": [
    "valleys"
   ]
  },
  {
   "cell_type": "code",
   "execution_count": null,
   "metadata": {},
   "outputs": [],
   "source": [
    "peaks = [6, 95, 189, 278, 360, 449]\n",
    "valleys = [64, 164, 248, 334, 419]"
   ]
  },
  {
   "cell_type": "code",
   "execution_count": null,
   "metadata": {},
   "outputs": [],
   "source": [
    "fig, ax = plt.subplots()\n",
    "\n",
    "ax.plot(X)\n",
    "\n",
    "# for peak in peaks:\n",
    "ax.plot(peaks, X[peaks], \"x\")\n",
    "ax.plot(valleys, X[valleys], \"o\")\n",
    "ax.set_xlabel(\"Klatka\")\n",
    "ax.set_ylabel(\"Kąt\")\n",
    "ax.set_title(\"Przefiltrowane wierzchołki\")"
   ]
  },
  {
   "cell_type": "code",
   "execution_count": null,
   "metadata": {},
   "outputs": [],
   "source": [
    "def get_segments(peaks: list, valleys: list) -> list[list[int, int]]:\n",
    "    segments = []\n",
    "    valley_idx = 0\n",
    "    peaks_idx = 0\n",
    "    while peaks_idx < len(peaks) - 1:\n",
    "        if peaks[peaks_idx] < valleys[valley_idx]:\n",
    "            if peaks[peaks_idx + 1] < valleys[valley_idx]:\n",
    "                peaks[peaks_idx + 1] = (peaks[peaks_idx] + peaks[peaks_idx + 1]) // 2\n",
    "            else:\n",
    "                segments.append([peaks[peaks_idx], peaks[peaks_idx + 1]])\n",
    "            peaks_idx += 1\n",
    "\n",
    "        else:\n",
    "            if valley_idx >= len(valleys) - 1:\n",
    "                break\n",
    "            if valleys[valley_idx + 1] < peaks[peaks_idx]:\n",
    "                valleys[valley_idx + 1] = (\n",
    "                    valleys[valley_idx] + valleys[valley_idx + 1]\n",
    "                ) // 2\n",
    "            valley_idx += 1\n",
    "    return segments"
   ]
  },
  {
   "cell_type": "code",
   "execution_count": null,
   "metadata": {},
   "outputs": [],
   "source": [
    "segments = get_segments(peaks, valleys)"
   ]
  }
 ],
 "metadata": {
  "kernelspec": {
   "display_name": ".env",
   "language": "python",
   "name": "python3"
  },
  "language_info": {
   "codemirror_mode": {
    "name": "ipython",
    "version": 3
   },
   "file_extension": ".py",
   "mimetype": "text/x-python",
   "name": "python",
   "nbconvert_exporter": "python",
   "pygments_lexer": "ipython3",
   "version": "3.11.3"
  }
 },
 "nbformat": 4,
 "nbformat_minor": 2
}
