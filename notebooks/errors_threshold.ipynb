{
 "cells": [
  {
   "cell_type": "code",
   "execution_count": null,
   "metadata": {},
   "outputs": [],
   "source": [
    "import pandas as pd\n",
    "import numpy as np\n",
    "import os \n",
    "from matplotlib import pyplot as plt\n",
    "\n",
    "reference_squat = pd.read_csv(\"../data/squat/features/reference/angles.csv\")\n",
    "data_dir = \"../data/pwr/angles\"\n",
    "angles_df = {file: pd.read_csv(os.path.join(data_dir, file)) for file in os.listdir(\"../data/pwr/angles\")}\n",
    "metadata_repetitions_df = pd.read_csv(\"../data/pwr/metadata_repetition.csv\")"
   ]
  },
  {
   "cell_type": "code",
   "execution_count": null,
   "metadata": {},
   "outputs": [],
   "source": [
    "angles_reps_df = []\n",
    "\n",
    "for _, row in metadata_repetitions_df.iterrows():\n",
    "    angles_reps_df.append(\n",
    "        angles_df[row['video'][:-4] + '_angles.csv'].iloc[row['start_frame']:row['end_frame']]\n",
    "    )"
   ]
  },
  {
   "cell_type": "code",
   "execution_count": null,
   "metadata": {},
   "outputs": [],
   "source": [
    "query_squat = angles_reps_df[5]\n",
    "query_squat.reset_index(drop=True, inplace=True) "
   ]
  },
  {
   "cell_type": "code",
   "execution_count": null,
   "metadata": {},
   "outputs": [],
   "source": [
    "fig, ax = plt.subplots(ncols=4, nrows=4, figsize=(20, 16))\n",
    "\n",
    "angle_types = [\"3D\", \"roll\", \"pitch\", \"yaw\"]\n",
    "squad_angles = [\"left_hip\", \"right_hip\", \"left_knee\", \"right_knee\"]\n",
    "\n",
    "for angle, axes in zip(squad_angles, ax):\n",
    "    for angle_type, axis in zip(angle_types, axes):\n",
    "        axis.plot(query_squat[f\"{angle}_{angle_type}\"])\n",
    "        axis.set_title(f\"{angle} {angle_type}\")"
   ]
  },
  {
   "cell_type": "code",
   "execution_count": null,
   "metadata": {},
   "outputs": [],
   "source": [
    "from tslearn.metrics import dtw_path\n",
    "\n",
    "\n",
    "def get_warped_frame_indexes(query: np.ndarray, reference: np.ndarray) -> list:\n",
    "    path, _ = dtw_path(query, reference)\n",
    "    path = np.array(path)\n",
    "    return path\n",
    "\n",
    "\n",
    "def filter_repetable_reference_indexes(\n",
    "    referene_to_query: np.ndarray, query_to_refernce: np.ndarray\n",
    ") -> np.ndarray:\n",
    "    query_to_refernce_cp = query_to_refernce.copy()\n",
    "\n",
    "    for idx in range(len(referene_to_query) - 1, -1, -1):\n",
    "        if idx > 0 and referene_to_query[idx] == referene_to_query[idx - 1]:\n",
    "            query_to_refernce_cp = np.delete(query_to_refernce_cp, idx)\n",
    "\n",
    "    return query_to_refernce_cp"
   ]
  },
  {
   "cell_type": "code",
   "execution_count": null,
   "metadata": {},
   "outputs": [],
   "source": [
    "fig, ax = plt.subplots(ncols=4, nrows=4, figsize=(20, 16))\n",
    "\n",
    "\n",
    "for angle, axes in zip(squad_angles, ax):\n",
    "    for angle_type, axis in zip(angle_types, axes):\n",
    "        angle_key = f\"{angle}_{angle_type}\"\n",
    "        dtw_alignment = get_warped_frame_indexes(\n",
    "            query_squat[angle_key], reference_squat[angle_key]\n",
    "        )\n",
    "        query_to_reference_warping = filter_repetable_reference_indexes(\n",
    "            dtw_alignment[:, 1], dtw_alignment[:, 0]\n",
    "        )\n",
    "\n",
    "        diffs = [\n",
    "            reference_squat[angle_key][reference_idx]-\n",
    "            query_squat[angle_key][query_idx]\n",
    "            for reference_idx, query_idx in enumerate(query_to_reference_warping)\n",
    "        ]\n",
    "        axis.plot(diffs)\n",
    "        axis.set_title(f\"DTW difference {angle_key}\", fontsize=8)\n",
    "        axis.set_xlabel(\"frame\", fontsize=8)\n",
    "        axis.set_ylabel(\"DTW angle diff\", fontsize=8)\n",
    "        "
   ]
  }
 ],
 "metadata": {
  "kernelspec": {
   "display_name": ".env",
   "language": "python",
   "name": "python3"
  },
  "language_info": {
   "codemirror_mode": {
    "name": "ipython",
    "version": 3
   },
   "file_extension": ".py",
   "mimetype": "text/x-python",
   "name": "python",
   "nbconvert_exporter": "python",
   "pygments_lexer": "ipython3",
   "version": "3.11.3"
  }
 },
 "nbformat": 4,
 "nbformat_minor": 2
}
