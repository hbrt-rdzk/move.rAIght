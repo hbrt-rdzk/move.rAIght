{
 "cells": [
  {
   "cell_type": "markdown",
   "metadata": {},
   "source": [
    "# Evaluation on EC3D dataset for squat exercise"
   ]
  },
  {
   "cell_type": "markdown",
   "metadata": {},
   "source": [
    "## Data processing and angles extraction"
   ]
  },
  {
   "cell_type": "code",
   "execution_count": null,
   "metadata": {},
   "outputs": [],
   "source": [
    "import pandas as pd\n",
    "import numpy as np\n",
    "import yaml\n",
    "import warnings\n",
    "import matplotlib.pyplot as plt\n",
    "\n",
    "warnings.filterwarnings(\"ignore\", category=RuntimeWarning)"
   ]
  },
  {
   "cell_type": "code",
   "execution_count": null,
   "metadata": {},
   "outputs": [],
   "source": [
    "dataset = pd.read_pickle(\"../data/EC3D/data_3D.pickle\")\n",
    "\n",
    "with open(\"../configs/pose_estimators.yaml\") as file:\n",
    "    open_pose_data = yaml.safe_load(file)[\"openpose\"]\n",
    "\n",
    "LABELS_COLUMNS = [\"exercise\", \"subject\", \"label\", \"rep\", \"frame\"]"
   ]
  },
  {
   "cell_type": "code",
   "execution_count": null,
   "metadata": {},
   "outputs": [],
   "source": [
    "labels = dataset[\"labels\"]\n",
    "poses = dataset[\"poses\"]"
   ]
  },
  {
   "cell_type": "markdown",
   "metadata": {},
   "source": [
    "### Labels processing"
   ]
  },
  {
   "cell_type": "code",
   "execution_count": null,
   "metadata": {},
   "outputs": [],
   "source": [
    "labels_df = pd.DataFrame(labels, columns=LABELS_COLUMNS)\n",
    "labels_df[\"frame\"] = np.arange(len(labels_df))\n",
    "labels_df = labels_df[labels_df[\"exercise\"] == \"SQUAT\"]\n",
    "labels_df.iloc[:, 2:] = labels_df.iloc[:, 2:].astype(\"int\")"
   ]
  },
  {
   "cell_type": "markdown",
   "metadata": {},
   "source": [
    "### Poses processing"
   ]
  },
  {
   "cell_type": "code",
   "execution_count": null,
   "metadata": {},
   "outputs": [],
   "source": [
    "SQUAT_LABELS = {\n",
    "    1: \"correct\",\n",
    "    2: \"feet_too_wide\",\n",
    "    3: \"knees_inwards\",\n",
    "    4: \"not_low_enough\",\n",
    "    5: \"front_bend\",\n",
    "}"
   ]
  },
  {
   "cell_type": "code",
   "execution_count": null,
   "metadata": {},
   "outputs": [],
   "source": [
    "def get_rep_frames_from_df(labels_df: pd.DataFrame) -> pd.Grouper:\n",
    "    \"\"\"Group dataframe by repetition\"\"\"\n",
    "    groups = labels_df.groupby(\"subject\")\n",
    "\n",
    "    return [\n",
    "        rep[\"frame\"].values\n",
    "        for _, subject_group in groups\n",
    "        for _, rep in subject_group.groupby(\"rep\")\n",
    "    ]\n",
    "\n",
    "\n",
    "def get_df_from_frames(\n",
    "    labels_df: pd.DataFrame, poses: np.ndarray, label: str\n",
    ") -> pd.DataFrame:\n",
    "    \"\"\"Combine joints representations with labels\"\"\"\n",
    "    frames = get_rep_frames_from_df(labels_df)\n",
    "    final_reps_df = pd.DataFrame()\n",
    "    for rep_num, frames_rep in enumerate(frames, start=1):\n",
    "        rep_3d_joints = poses[frames_rep]\n",
    "\n",
    "        rep_3d_joints_x = rep_3d_joints[:, 0, :15].reshape(-1)\n",
    "        rep_3d_joints_y = rep_3d_joints[:, 1, :15].reshape(-1)\n",
    "        rep_3d_joints_z = rep_3d_joints[:, 2, :15].reshape(-1)\n",
    "        frames_num = len(rep_3d_joints_x) // 15\n",
    "\n",
    "        rep = np.full_like(rep_3d_joints_x, rep_num, dtype=int)\n",
    "        frames = np.repeat(np.arange(frames_num, dtype=int), 15)\n",
    "        joint_names = np.tile(list(open_pose_data[\"joints\"].values()), frames_num)\n",
    "        labels = np.full_like(rep_3d_joints_x, label, dtype=\"<U15\")\n",
    "        final_rep = np.array(\n",
    "            [\n",
    "                rep,\n",
    "                frames,\n",
    "                rep_3d_joints_x,\n",
    "                rep_3d_joints_y,\n",
    "                rep_3d_joints_z,\n",
    "                joint_names,\n",
    "                labels,\n",
    "            ]\n",
    "        ).T\n",
    "        final_reps_df = pd.concat(\n",
    "            [\n",
    "                final_reps_df,\n",
    "                pd.DataFrame(\n",
    "                    final_rep,\n",
    "                    columns=[\"rep\", \"frame\", \"x\", \"y\", \"z\", \"joint_name\", \"label\"],\n",
    "                ),\n",
    "            ],\n",
    "            axis=0,\n",
    "        )\n",
    "\n",
    "    final_reps_df[\"rep\"] = final_reps_df[\"rep\"].astype(\"int\")\n",
    "    final_reps_df[\"frame\"] = final_reps_df[\"frame\"].astype(\"int\")\n",
    "\n",
    "    return final_reps_df"
   ]
  },
  {
   "cell_type": "code",
   "execution_count": null,
   "metadata": {},
   "outputs": [],
   "source": [
    "joints_data = []\n",
    "for label_number, label_name in SQUAT_LABELS.items():\n",
    "    joints_data.append(\n",
    "        get_df_from_frames(\n",
    "            labels_df[labels_df[\"label\"] == label_number], poses, label_name\n",
    "        )\n",
    "    )\n",
    "\n",
    "joints_df = pd.concat(joints_data)"
   ]
  },
  {
   "cell_type": "markdown",
   "metadata": {},
   "source": [
    "### Angles extraction"
   ]
  },
  {
   "cell_type": "code",
   "execution_count": null,
   "metadata": {},
   "outputs": [],
   "source": [
    "ANGLE_TYPES = {\"3D\": [0, 1, 2], \"roll\": [1, 2], \"pitch\": [0, 1], \"yaw\": [0, 2]}\n",
    "\n",
    "\n",
    "def calculate_angle(\n",
    "    v1: np.ndarray, v2: np.ndarray, v3: np.ndarray, dims: list = [0, 1, 2]\n",
    ") -> float:\n",
    "    if not all(arr.shape == (3,) for arr in (v1, v2, v3)):\n",
    "        raise ValueError(\"Input arrays must all be of shape (3,).\")\n",
    "    v1 = v1[dims]\n",
    "    v2 = v2[dims]\n",
    "    v3 = v3[dims]\n",
    "\n",
    "    v21 = v1 - v2\n",
    "    v23 = v3 - v2\n",
    "\n",
    "    cosine_angle = np.dot(v21, v23) / (np.linalg.norm(v21) * np.linalg.norm(v23))\n",
    "    angle = np.arccos(cosine_angle)\n",
    "\n",
    "    return np.degrees(angle)\n",
    "\n",
    "\n",
    "def extract_angles_from_joints(\n",
    "    joints_df: pd.DataFrame, angles_formula: dict\n",
    ") -> pd.DataFrame:\n",
    "    angles_data = []\n",
    "    for (label, rep, frame), rep_data in joints_df.groupby([\"label\", \"rep\", \"frame\"]):\n",
    "        rep_data = rep_data.reset_index()\n",
    "        angles = {}\n",
    "        for angle_name, angle_joints in angles_formula.items():\n",
    "            joints_3d_positions = rep_data.loc[angle_joints][[\"x\", \"y\", \"z\"]].astype(\n",
    "                \"float\"\n",
    "            )\n",
    "            for angle_dims_name, angle_dims in ANGLE_TYPES.items():\n",
    "                angles[f\"{angle_name}_{angle_dims_name}\"] = calculate_angle(\n",
    "                    *joints_3d_positions.values, angle_dims\n",
    "                )\n",
    "        angles_data.append(\n",
    "            pd.Series(\n",
    "                {\n",
    "                    \"rep\": rep,\n",
    "                    \"frame\": frame,\n",
    "                    **angles,\n",
    "                    \"label\": label,\n",
    "                }\n",
    "            )\n",
    "        )\n",
    "    return pd.DataFrame(angles_data)"
   ]
  },
  {
   "cell_type": "code",
   "execution_count": null,
   "metadata": {},
   "outputs": [],
   "source": [
    "angles_df = extract_angles_from_joints(joints_df, open_pose_data[\"angles\"])"
   ]
  },
  {
   "cell_type": "code",
   "execution_count": null,
   "metadata": {},
   "outputs": [],
   "source": [
    "angles_df.head()"
   ]
  },
  {
   "cell_type": "markdown",
   "metadata": {},
   "source": [
    "## Angles comparison\n",
    "\n",
    "Comparison will be presented between **correct** and **not low enough** labels"
   ]
  },
  {
   "cell_type": "markdown",
   "metadata": {},
   "source": [
    "### Correct and incorrect samples extraction"
   ]
  },
  {
   "cell_type": "code",
   "execution_count": null,
   "metadata": {},
   "outputs": [],
   "source": [
    "def get_sample(df: pd.DataFrame, label: str) -> pd.DataFrame:\n",
    "    for _, sample in df.groupby([\"label\", \"rep\"]):\n",
    "        if sample[\"label\"].iloc[0] == label:\n",
    "            return sample.reset_index()\n",
    "    return pd.DataFrame()"
   ]
  },
  {
   "cell_type": "code",
   "execution_count": null,
   "metadata": {},
   "outputs": [],
   "source": [
    "correct_sample = get_sample(angles_df, \"correct\")\n",
    "incorrect_sample = get_sample(angles_df, \"not_low_enough\")"
   ]
  },
  {
   "cell_type": "code",
   "execution_count": null,
   "metadata": {},
   "outputs": [],
   "source": [
    "fig, axes = plt.subplots(nrows=4, ncols=4, figsize=(20, 16))\n",
    "\n",
    "considered_angles = [\"left_knee\", \"right_knee\", \"left_hip\", \"right_hip\"]\n",
    "\n",
    "for angle_axes, angle in zip(axes, considered_angles):\n",
    "    for axis, angle_type in zip(angle_axes, ANGLE_TYPES.keys()):\n",
    "        axis.plot(correct_sample[f\"{angle}_{angle_type}\"], label=\"correct\")\n",
    "        axis.plot(incorrect_sample[f\"{angle}_{angle_type}\"], label=\"incorrect\")\n",
    "        axis.legend(fontsize=8)\n",
    "        axis.set_title(f\"{angle} {angle_type}\", fontsize=8)\n",
    "        axis.set_xlabel(\"frame\", fontsize=8)\n",
    "        axis.set_ylabel(\"angle\", fontsize=8)"
   ]
  },
  {
   "cell_type": "markdown",
   "metadata": {},
   "source": [
    "It is clearly visible that pitch rotation provides best information for this kind of incorrection analysis. "
   ]
  },
  {
   "cell_type": "markdown",
   "metadata": {},
   "source": [
    "### DTW alignment"
   ]
  },
  {
   "cell_type": "code",
   "execution_count": null,
   "metadata": {},
   "outputs": [],
   "source": [
    "from tslearn.metrics import dtw_path\n",
    "\n",
    "\n",
    "def get_warped_frame_indexes(query: np.ndarray, reference: np.ndarray) -> list:\n",
    "    path, _ = dtw_path(query, reference)\n",
    "    path = np.array(path)\n",
    "    return path\n",
    "\n",
    "\n",
    "def filter_repetable_reference_indexes(\n",
    "    referene_to_query: np.ndarray, query_to_refernce: np.ndarray\n",
    ") -> np.ndarray:\n",
    "    query_to_refernce_cp = query_to_refernce.copy()\n",
    "\n",
    "    for idx in range(len(referene_to_query) - 1, -1, -1):\n",
    "        if idx > 0 and referene_to_query[idx] == referene_to_query[idx - 1]:\n",
    "            query_to_refernce_cp = np.delete(query_to_refernce_cp, idx)\n",
    "\n",
    "    return query_to_refernce_cp"
   ]
  },
  {
   "cell_type": "code",
   "execution_count": null,
   "metadata": {},
   "outputs": [],
   "source": [
    "dtw_alignment = get_warped_frame_indexes(\n",
    "    incorrect_sample[\"right_knee_pitch\"], correct_sample[\"right_knee_pitch\"]\n",
    ")\n",
    "query_to_reference_warping = filter_repetable_reference_indexes(\n",
    "    dtw_alignment[:, 1], dtw_alignment[:, 0]\n",
    ")\n",
    "\n",
    "diffs = [\n",
    "    correct_sample[\"right_knee_pitch\"][reference_idx]\n",
    "    - incorrect_sample[\"right_knee_pitch\"][query_idx]\n",
    "    for reference_idx, query_idx in enumerate(query_to_reference_warping)\n",
    "]"
   ]
  },
  {
   "cell_type": "markdown",
   "metadata": {},
   "source": [
    "### DTW diffs visualization"
   ]
  },
  {
   "cell_type": "code",
   "execution_count": null,
   "metadata": {},
   "outputs": [],
   "source": [
    "fig, axes = plt.subplots(nrows=4, ncols=4, figsize=(20, 16))\n",
    "\n",
    "considered_angles = [\"left_knee\", \"right_knee\", \"left_hip\", \"right_hip\"]\n",
    "\n",
    "for angle_axes, angle in zip(axes, considered_angles):\n",
    "    for axis, angle_type in zip(angle_axes, ANGLE_TYPES.keys()):\n",
    "        angle_key = f\"{angle}_{angle_type}\"\n",
    "        dtw_alignment = get_warped_frame_indexes(\n",
    "            incorrect_sample[angle_key], correct_sample[angle_key]\n",
    "        )\n",
    "        query_to_reference_warping = filter_repetable_reference_indexes(\n",
    "            dtw_alignment[:, 1], dtw_alignment[:, 0]\n",
    "        )\n",
    "\n",
    "        diffs = [\n",
    "            correct_sample[angle_key][reference_idx]\n",
    "            - incorrect_sample[angle_key][query_idx]\n",
    "            for reference_idx, query_idx in enumerate(query_to_reference_warping)\n",
    "        ]\n",
    "        axis.plot(diffs)\n",
    "        axis.set_title(f\"DTW difference {angle} {angle_type}\", fontsize=8)\n",
    "        axis.set_xlabel(\"frame\", fontsize=8)\n",
    "        axis.set_ylabel(\"DTW angle diff\", fontsize=8)"
   ]
  }
 ],
 "metadata": {
  "kernelspec": {
   "display_name": ".env",
   "language": "python",
   "name": "python3"
  },
  "language_info": {
   "codemirror_mode": {
    "name": "ipython",
    "version": 3
   },
   "file_extension": ".py",
   "mimetype": "text/x-python",
   "name": "python",
   "nbconvert_exporter": "python",
   "pygments_lexer": "ipython3",
   "version": "3.11.3"
  }
 },
 "nbformat": 4,
 "nbformat_minor": 2
}
